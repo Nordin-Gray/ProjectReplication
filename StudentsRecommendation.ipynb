{
 "cells": [
  {
   "cell_type": "markdown",
   "metadata": {},
   "source": [
    "学生是否获得推荐信\n",
    "  \n",
    "Reference : https://blog.csdn.net/qq_49323609/article/details/132856846"
   ]
  },
  {
   "cell_type": "markdown",
   "metadata": {},
   "source": [
    "# <img src=\"https://gitee.com/qq_2013977911/picgo-store-images/raw/master/imgs/20250515161227569.png\" width=\"75%\">"
   ]
  },
  {
   "cell_type": "code",
   "execution_count": 7,
   "metadata": {},
   "outputs": [],
   "source": [
    "from pgmpy.models import DiscreteBayesianNetwork\n",
    "from pgmpy.inference import VariableElimination\n",
    "\n",
    "from pgmpy.factors.discrete import TabularCPD"
   ]
  },
  {
   "cell_type": "code",
   "execution_count": 8,
   "metadata": {},
   "outputs": [],
   "source": [
    "letter_bn = DiscreteBayesianNetwork([\n",
    "       ('D', 'G'),\n",
    "       ('I', 'G'),\n",
    "       ('I', 'S'),\n",
    "       ('G', 'L')\n",
    "   ])"
   ]
  },
  {
   "cell_type": "code",
   "execution_count": 9,
   "metadata": {},
   "outputs": [],
   "source": [
    "# 变量名，变量取值个数，对应概率\n",
    "d_cpd=TabularCPD(variable='D',variable_card=2,values=[[0.6],[0.4]]) # P(D=0)=0.6，P(D=1)=0.4\n",
    "i_cpd=TabularCPD(variable='I',variable_card=2,values=[[0.7],[0.3]]) # P(I=0)=0.7，P(I=1)=0.3\n",
    "\n",
    "# 定义变量 G 的条件概率分布\n",
    "g_cpd=TabularCPD(   \n",
    "                    variable='G',\n",
    "                    variable_card=3,\n",
    "                    # values 每一列对应 I、D 的一种组合（共 2×2=4 种），每一行对应 G 的一个取值\n",
    "                    values=[\n",
    "                            [0.3, 0.05, 0.9, 0.5],\n",
    "                            [0.4, 0.25, 0.08, 0.3],\n",
    "                            [0.3, 0.7, 0.02, 0.2]\n",
    "                            ],\n",
    "                    evidence=['I','D'],  # G 的概率依赖于 I 和 D\n",
    "                    evidence_card=[2,2]  # I 和 D 都有两个取值\n",
    "                )\n",
    "# 变量名，变量取值个数，对应概率，依赖变量名，依赖变量取值，类比 G\n",
    "s_cpd=TabularCPD(\n",
    "                    variable='S',\n",
    "                    variable_card=2,\n",
    "                    values=[[0.95,0.2],\n",
    "                            [0.05,0.8]],\n",
    "                    evidence=['I'],\n",
    "                    evidence_card=[2]\n",
    "                )\n",
    "l_cpd=TabularCPD(\n",
    "                    variable='L',\n",
    "                    variable_card=2,\n",
    "                    values=[[0.1,0.4,0.99],\n",
    "                            [0.9,0.6,0.01]],\n",
    "                    evidence=['G'],\n",
    "                    evidence_card=[3]\n",
    "                )\n",
    "# evidence_card必须是列表\n"
   ]
  },
  {
   "cell_type": "code",
   "execution_count": 10,
   "metadata": {},
   "outputs": [
    {
     "name": "stdout",
     "output_type": "stream",
     "text": [
      "True\n",
      "[<TabularCPD representing P(D:2) at 0x1c13af2ee30>, <TabularCPD representing P(I:2) at 0x1c13af2ef20>, <TabularCPD representing P(G:3 | I:2, D:2) at 0x1c13af2fe20>, <TabularCPD representing P(S:2 | I:2) at 0x1c13af2fd90>, <TabularCPD representing P(L:2 | G:3) at 0x1c13af2ec50>]\n"
     ]
    }
   ],
   "source": [
    "# 将前面定义好的所有条件概率分布（CPD）添加到贝叶斯网络 letter_bn 中，\n",
    "# 只有添加了 CPD，网络才有了“概率信息”，才能进行推理。\n",
    "letter_bn.add_cpds(d_cpd,i_cpd,g_cpd,s_cpd,l_cpd)\n",
    "\n",
    "letter_bn.check_model()  # 检查构建的模型是否合理，如果有问题会报错，否则返回 True\n",
    "\n",
    "letter_bn.get_cpds()  # 获取网络中所有节点的条件概率分布（CPD）对象。\n",
    "\n",
    "print(letter_bn.check_model()) # 打印check_model()的结果，如果输出 True说明模型结构和概率分布都没问题。\n",
    "\n",
    "print(letter_bn.get_cpds()) # 打印出网络中所有变量的条件概率分布（CPD），可以直观地看到每个变量的概率表。"
   ]
  },
  {
   "cell_type": "markdown",
   "metadata": {},
   "source": [
    "True\n",
    "\n",
    "[<TabularCPD representing P(D:2) at 0x1c13af2ee30>, \n",
    "<TabularCPD representing P(I:2) at 0x1c13af2ef20>, \n",
    "<TabularCPD representing P(G:3 | I:2, D:2) at 0x1c13af2fe20>, \n",
    "<TabularCPD representing P(S:2 | I:2) at 0x1c13af2fd90>, \n",
    "<TabularCPD representing P(L:2 | G:3) at 0x1c13af2ec50>]"
   ]
  },
  {
   "cell_type": "code",
   "execution_count": 11,
   "metadata": {},
   "outputs": [
    {
     "name": "stdout",
     "output_type": "stream",
     "text": [
      "prob_I:+------+----------+\n",
      "| L    |   phi(L) |\n",
      "+======+==========+\n",
      "| L(0) |   0.3680 |\n",
      "+------+----------+\n",
      "| L(1) |   0.6320 |\n",
      "+------+----------+\n"
     ]
    }
   ],
   "source": [
    "# 创建一个变量消除（Variable Elimination）推理器，用于在贝叶斯网络 letter_bn 上进行概率推理\n",
    "letter_infer=VariableElimination(letter_bn) # 变量消除\n",
    "\n",
    "# 计算在已知 I=1（智力低）且 D=1（课程难）时，L（是否获得推荐信）的概率分布。\n",
    "prob_I = letter_infer.query( variables=['L'],evidence={'I':1,'D':1} )\n",
    "print( f\"prob_I:{prob_I}\" ) # 打印出上述条件下 L 的概率分布结果。"
   ]
  },
  {
   "cell_type": "markdown",
   "metadata": {},
   "source": [
    "设置的条件是：\n",
    "    智力 I=1（低智力）\n",
    "    课程难度 D=1（难课程）\n",
    "在这两个条件下，模型推断出：\n",
    "    该学生获得推荐信的概率为 63.2%\n",
    "    未获得推荐信的概率为 36.8%"
   ]
  }
 ],
 "metadata": {
  "kernelspec": {
   "display_name": "Python 3",
   "language": "python",
   "name": "python3"
  },
  "language_info": {
   "codemirror_mode": {
    "name": "ipython",
    "version": 3
   },
   "file_extension": ".py",
   "mimetype": "text/x-python",
   "name": "python",
   "nbconvert_exporter": "python",
   "pygments_lexer": "ipython3",
   "version": "3.10.16"
  }
 },
 "nbformat": 4,
 "nbformat_minor": 2
}
